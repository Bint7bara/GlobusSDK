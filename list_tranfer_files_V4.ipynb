{
  "cells": [
    {
      "cell_type": "markdown",
      "metadata": {
        "id": "view-in-github",
        "colab_type": "text"
      },
      "source": [
        "<a href=\"https://colab.research.google.com/github/Bint7bara/GlobusSDK/blob/main/list_tranfer_files_V4.ipynb\" target=\"_parent\"><img src=\"https://colab.research.google.com/assets/colab-badge.svg\" alt=\"Open In Colab\"/></a>"
      ]
    },
    {
      "cell_type": "code",
      "execution_count": null,
      "metadata": {
        "id": "l8HZ93SvtjqP"
      },
      "outputs": [],
      "source": [
        "import globus_sdk\n",
        "from globus_sdk.scopes import TransferScopes"
      ]
    },
    {
      "cell_type": "markdown",
      "metadata": {
        "id": "UIHtziIvtjqQ"
      },
      "source": [
        "Ask for NETID at the beginning"
      ]
    },
    {
      "cell_type": "code",
      "execution_count": null,
      "metadata": {
        "id": "doCL1fzotjqR"
      },
      "outputs": [],
      "source": [
        "netid = input(\"Please enter your NETID: \").strip()"
      ]
    },
    {
      "cell_type": "markdown",
      "metadata": {
        "id": "lJ2zGOfWtjqR"
      },
      "source": [
        "Endpoint aliases and their corresponding UUIDs and default paths"
      ]
    },
    {
      "cell_type": "code",
      "execution_count": null,
      "metadata": {
        "id": "4J1HNbjQtjqR"
      },
      "outputs": [],
      "source": [
        "endpoint_aliases = {\n",
        "    \"1\": (\"UIC ACER HPC Local Filesystems\", '3eb0badf-8554-4fa4-b6a5-aa72246b4953', f'/home/{netid}/'),\n",
        "    \"2\": (\"UIC ACER Research Data Lake\", 'ec0cad56-aee7-436b-b231-9cf4ec1aa2af', f'/{netid}/'),\n",
        "    \"3\": (\"UIC ACER Research Data Lake HA\", 'e7599234-21f6-4ef2-aa79-f3a2b67f3b75', f'/{netid}/'),\n",
        "    \"4\": (\"UIC ACER Research Data Rapids\", '4054d9ee-9045-42fa-9679-45a5dd79b220', f'/home/{netid}/.')\n",
        "}"
      ]
    },
    {
      "cell_type": "code",
      "execution_count": null,
      "metadata": {
        "id": "NLW7DZG1tjqS"
      },
      "outputs": [],
      "source": [
        "def choose_endpoint():\n",
        "    print(\"Please choose an endpoint by entering the corresponding number:\")\n",
        "    for key, (alias, _, _) in endpoint_aliases.items():\n",
        "        print(f\"{key}: {alias}\")\n",
        "    choice = input(\"Your choice: \")\n",
        "    # Validate the user choice\n",
        "    if choice in endpoint_aliases:\n",
        "        # Replace 'NETID' with the actual netid in the path\n",
        "        alias, uuid, path = endpoint_aliases[choice]\n",
        "        return alias, uuid, path\n",
        "    else:\n",
        "        print(\"Invalid choice. Please try again.\")\n",
        "        return choose_endpoint()"
      ]
    },
    {
      "cell_type": "code",
      "execution_count": null,
      "metadata": {
        "id": "d_xqJQMwtjqS"
      },
      "outputs": [],
      "source": [
        "CLIENT_ID = \"0e364f2a-14b4-472c-8aab-3d0e65c30a57\"\n",
        "auth_client = globus_sdk.NativeAppAuthClient(CLIENT_ID)"
      ]
    },
    {
      "cell_type": "code",
      "execution_count": null,
      "metadata": {
        "id": "xZBTrIC0tjqS"
      },
      "outputs": [],
      "source": [
        "def login_and_get_transfer_client(*, scopes=TransferScopes.all):\n",
        "    auth_client.oauth2_start_flow(requested_scopes=scopes)\n",
        "    authorize_url = auth_client.oauth2_get_authorize_url()\n",
        "    print(f\"Please go to this URL and login:\\n\\n{authorize_url}\\n\")\n",
        "    auth_code = input(\"Please enter the code here: \").strip()\n",
        "    tokens = auth_client.oauth2_exchange_code_for_tokens(auth_code)\n",
        "    transfer_tokens = tokens.by_resource_server[\"transfer.api.globus.org\"]\n",
        "    return globus_sdk.TransferClient(\n",
        "        authorizer=globus_sdk.AccessTokenAuthorizer(transfer_tokens[\"access_token\"])\n",
        "    )"
      ]
    },
    {
      "cell_type": "code",
      "execution_count": null,
      "metadata": {
        "id": "kh1G82jFtjqT"
      },
      "outputs": [],
      "source": [
        "def list_files(transfer_client, endpoint_id, path):\n",
        "    print(f\"Listing contents of {endpoint_id} at {path}\")\n",
        "    try:\n",
        "        for entry in transfer_client.operation_ls(endpoint_id, path=path):\n",
        "            print(f\"- {entry['name']}\")\n",
        "    except globus_sdk.TransferAPIError as e:\n",
        "        print(f\"An error occurred while listing files: {e}\")"
      ]
    },
    {
      "cell_type": "code",
      "execution_count": null,
      "metadata": {
        "id": "EZKJsR84tjqT"
      },
      "outputs": [],
      "source": [
        "transfer_client = login_and_get_transfer_client()"
      ]
    },
    {
      "cell_type": "markdown",
      "metadata": {
        "id": "o4hxSzVytjqT"
      },
      "source": [
        "Choose source and destination endpoints"
      ]
    },
    {
      "cell_type": "code",
      "execution_count": null,
      "metadata": {
        "id": "htKXLtPYtjqT"
      },
      "outputs": [],
      "source": [
        "print(\"Source Endpoint:\")\n",
        "src_alias, src_uuid, src_path = choose_endpoint()\n",
        "print(\"Destination Endpoint:\")\n",
        "dst_alias, dst_uuid, dst_path = choose_endpoint()"
      ]
    },
    {
      "cell_type": "markdown",
      "metadata": {
        "id": "Ryf4--DqtjqT"
      },
      "source": [
        "List files at source and destination based on user choice"
      ]
    },
    {
      "cell_type": "code",
      "execution_count": null,
      "metadata": {
        "id": "mBbQMI8UtjqT"
      },
      "outputs": [],
      "source": [
        "print(f\"\\n{src_alias} Contents:\")\n",
        "list_files(transfer_client, src_uuid, src_path)"
      ]
    },
    {
      "cell_type": "code",
      "execution_count": null,
      "metadata": {
        "id": "QH6xa0FStjqT"
      },
      "outputs": [],
      "source": [
        "print(f\"\\n{dst_alias} Contents:\")\n",
        "list_files(transfer_client, dst_uuid, dst_path)"
      ]
    },
    {
      "cell_type": "markdown",
      "metadata": {
        "id": "zA0SVkEGtjqT"
      },
      "source": [
        "Transfer task creation based on user choices"
      ]
    },
    {
      "cell_type": "code",
      "execution_count": null,
      "metadata": {
        "id": "iODtmj1NtjqU"
      },
      "outputs": [],
      "source": [
        "task_data = globus_sdk.TransferData(\n",
        "    transfer_client, src_uuid, dst_uuid\n",
        ")"
      ]
    },
    {
      "cell_type": "markdown",
      "metadata": {
        "id": "C68GgRIrtjqU"
      },
      "source": [
        "Get additional file transfer details from user"
      ]
    },
    {
      "cell_type": "code",
      "execution_count": null,
      "metadata": {
        "id": "iyShp2D9tjqU"
      },
      "outputs": [],
      "source": [
        "source_file = input(\"Enter the file name in the source path to transfer: \").strip()\n",
        "destination_file = input(\"Enter the destination file name (with path) to transfer: \").strip()\n",
        "source_path_full = src_path + source_file\n",
        "destination_path_full = dst_path + destination_file"
      ]
    },
    {
      "cell_type": "code",
      "execution_count": null,
      "metadata": {
        "id": "CRuqxgqBtjqU"
      },
      "outputs": [],
      "source": [
        "task_data.add_item(source_path_full, destination_path_full)"
      ]
    },
    {
      "cell_type": "code",
      "execution_count": null,
      "metadata": {
        "id": "dD_Y9y3KtjqU"
      },
      "outputs": [],
      "source": [
        "def do_submit(client):\n",
        "    task_doc = client.submit_transfer(task_data)\n",
        "    task_id = task_doc[\"task_id\"]\n",
        "    print(f\"submitted transfer, task_id={task_id}\")"
      ]
    }
  ],
  "metadata": {
    "kernelspec": {
      "display_name": "Python 3",
      "language": "python",
      "name": "python3"
    },
    "language_info": {
      "codemirror_mode": {
        "name": "ipython",
        "version": 3
      },
      "file_extension": ".py",
      "mimetype": "text/x-python",
      "name": "python",
      "nbconvert_exporter": "python",
      "pygments_lexer": "ipython3",
      "version": "3.6.4"
    },
    "colab": {
      "provenance": [],
      "include_colab_link": true
    }
  },
  "nbformat": 4,
  "nbformat_minor": 0
}